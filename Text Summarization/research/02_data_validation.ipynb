{
 "cells": [
  {
   "cell_type": "code",
   "execution_count": 1,
   "metadata": {},
   "outputs": [],
   "source": [
    "import os"
   ]
  },
  {
   "cell_type": "code",
   "execution_count": 3,
   "metadata": {},
   "outputs": [
    {
     "data": {
      "text/plain": [
       "'d:\\\\Project\\\\Machine Learning\\\\Text Summarization\\\\research'"
      ]
     },
     "execution_count": 3,
     "metadata": {},
     "output_type": "execute_result"
    }
   ],
   "source": [
    "%pwd"
   ]
  },
  {
   "cell_type": "code",
   "execution_count": 4,
   "metadata": {},
   "outputs": [],
   "source": [
    "os.chdir(\"../\")"
   ]
  },
  {
   "cell_type": "code",
   "execution_count": 5,
   "metadata": {},
   "outputs": [
    {
     "data": {
      "text/plain": [
       "'d:\\\\Project\\\\Machine Learning\\\\Text Summarization'"
      ]
     },
     "execution_count": 5,
     "metadata": {},
     "output_type": "execute_result"
    }
   ],
   "source": [
    "%pwd"
   ]
  },
  {
   "cell_type": "markdown",
   "metadata": {},
   "source": [
    "ENTITY"
   ]
  },
  {
   "cell_type": "code",
   "execution_count": 6,
   "metadata": {},
   "outputs": [],
   "source": [
    "from dataclasses import dataclass\n",
    "from pathlib import Path\n",
    "\n",
    "@dataclass(frozen=True)\n",
    "class DataValiationConfig:\n",
    "    root_dir: Path\n",
    "    Status_File: str\n",
    "    All_Required_File: list"
   ]
  },
  {
   "cell_type": "markdown",
   "metadata": {},
   "source": [
    "Configuration Manager"
   ]
  },
  {
   "cell_type": "code",
   "execution_count": 7,
   "metadata": {},
   "outputs": [],
   "source": [
    "from textSummarizer.constants import *\n",
    "from textSummarizer.utils.common import read_yaml, create_dirs\n",
    "\n",
    "class ConfigurationManager:\n",
    "    def __init__(\n",
    "            self,\n",
    "            config_filepath = Config_File_Path,\n",
    "            params_filepath = Params_File_Path\n",
    "    ):\n",
    "        self.config = read_yaml(config_filepath)\n",
    "        self.params = read_yaml(params_filepath)\n",
    "\n",
    "        create_dirs([self.config.artifacts_root])\n",
    "\n",
    "    def get_data_validation_config(self) -> DataValiationConfig:\n",
    "        config = self.config.data_validation\n",
    "\n",
    "        create_dirs([config.root_dir])\n",
    "        \n",
    "        data_validation_config = DataValiationConfig(\n",
    "            root_dir= config.root_dir,\n",
    "            Status_File= config.Status_File,\n",
    "            All_Required_File=config.All_Required_File\n",
    "        )\n",
    "\n",
    "        return data_validation_config"
   ]
  },
  {
   "cell_type": "markdown",
   "metadata": {},
   "source": [
    "COMPONENT"
   ]
  },
  {
   "cell_type": "code",
   "execution_count": 9,
   "metadata": {},
   "outputs": [],
   "source": [
    "import os\n",
    "from textSummarizer.Logging import logger\n",
    "\n",
    "class DataValidation:\n",
    "    def __init__(self, config:DataValiationConfig):\n",
    "        self.config = config\n",
    "\n",
    "    def validate_existance_files(self) -> bool:\n",
    "        try:\n",
    "            validate_status = None\n",
    "\n",
    "            all_file = os.listdir(os.path.join(\"artifacts\", \"data_ingestion\", \"samsum_dataset\"))\n",
    "\n",
    "            for file in all_file:\n",
    "                if file not in self.config.All_Required_File:\n",
    "                    validate_status = False\n",
    "                    with open(self.config.Status_File, \"w\") as f:\n",
    "                        f.write(f\"Validation status: {validate_status}\")\n",
    "                else:\n",
    "                    validate_status = True\n",
    "                    with open(self.config.Status_File, \"w\") as f:\n",
    "                        f.write(f\"Validation status: {validate_status}\")\n",
    "            return validate_status\n",
    "        except Exception as e:\n",
    "            raise e"
   ]
  },
  {
   "cell_type": "markdown",
   "metadata": {},
   "source": [
    "PIPELINE"
   ]
  },
  {
   "cell_type": "code",
   "execution_count": 10,
   "metadata": {},
   "outputs": [
    {
     "name": "stdout",
     "output_type": "stream",
     "text": [
      "[2024-07-09 07:31:08,293: INFO: common: yaml file: config\\config.yaml Load Successfully]\n",
      "[2024-07-09 07:31:08,294: INFO: common: yaml file: params.yaml Load Successfully]\n",
      "[2024-07-09 07:31:08,295: INFO: common: Create directory at artifacts]\n",
      "[2024-07-09 07:31:08,295: INFO: common: Create directory at artifacts/data_validation]\n"
     ]
    }
   ],
   "source": [
    "try:\n",
    "    config = ConfigurationManager()\n",
    "    data_validation_config = config.get_data_validation_config()\n",
    "    data_validation = DataValidation(config= data_validation_config)\n",
    "    data_validation.validate_existance_files()\n",
    "except Exception as e:\n",
    "    raise e"
   ]
  }
 ],
 "metadata": {
  "kernelspec": {
   "display_name": "textSummarize",
   "language": "python",
   "name": "python3"
  },
  "language_info": {
   "codemirror_mode": {
    "name": "ipython",
    "version": 3
   },
   "file_extension": ".py",
   "mimetype": "text/x-python",
   "name": "python",
   "nbconvert_exporter": "python",
   "pygments_lexer": "ipython3",
   "version": "3.8.19"
  }
 },
 "nbformat": 4,
 "nbformat_minor": 2
}
